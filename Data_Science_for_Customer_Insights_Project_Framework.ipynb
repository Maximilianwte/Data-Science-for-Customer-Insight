{
  "nbformat": 4,
  "nbformat_minor": 0,
  "metadata": {
    "colab": {
      "name": "Data_Science_for_Customer_Insights_Project_Framework.ipynb",
      "provenance": [],
      "private_outputs": true,
      "include_colab_link": true
    },
    "kernelspec": {
      "name": "python3",
      "display_name": "Python 3"
    }
  },
  "cells": [
    {
      "cell_type": "markdown",
      "metadata": {
        "id": "view-in-github",
        "colab_type": "text"
      },
      "source": [
        "<a href=\"https://colab.research.google.com/github/Maximilianwte/Data-Science-for-Customer-Insight/blob/main/Data_Science_for_Customer_Insights_Project_Framework.ipynb\" target=\"_parent\"><img src=\"https://colab.research.google.com/assets/colab-badge.svg\" alt=\"Open In Colab\"/></a>"
      ]
    },
    {
      "cell_type": "markdown",
      "metadata": {
        "id": "ycXWv5-jYpIC"
      },
      "source": [
        "# **Project Notebook**\n",
        "Names:\n",
        "\n",
        "Matr.:\n",
        "\n",
        "Dataset:"
      ]
    },
    {
      "cell_type": "markdown",
      "metadata": {
        "id": "Xo3zbWkWbQCN"
      },
      "source": [
        "*This is an example notebook, which helps you, to structure your data science project. You may partly adapt/ shorten/ extend it depending on the characteristics of your project.*"
      ]
    },
    {
      "cell_type": "markdown",
      "source": [
        "Please write down the Name of the Group member you worked on each section. If you want to feel free to add more sub-headlines to add more structure to your notebook and section who worked on what. \n",
        "\n",
        "Example for a section: Data Understanding (Max Mustermann)"
      ],
      "metadata": {
        "id": "BUOq9_tORt3e"
      }
    },
    {
      "cell_type": "markdown",
      "metadata": {
        "id": "a8aiLYHdaX9P"
      },
      "source": [
        "## **Introduction** (Name)\n",
        "- State project target and context (what is your dependent variable, what is your dataset about?)\n",
        "- Explain relevance for Marketing context (incl. sources)\n",
        "- What does marketing literature say about the caveats of your task (e.g. for trying to optimize an image for maximum likes, what does marketing literature say are relevant factors that influence like count on images?)\n",
        "- Mention main conclusions from major tech papers on topic"
      ]
    },
    {
      "cell_type": "markdown",
      "metadata": {
        "id": "CuIPnDlucl2q"
      },
      "source": [
        "*You may focus on text input here*"
      ]
    },
    {
      "cell_type": "markdown",
      "metadata": {
        "id": "4m8XnguvY7Ic"
      },
      "source": [
        "## **Data Understanding** (Name)\n",
        "- Load data \n",
        "- Provide visualizations / key attributes into data, e.g., distribution of important variables, how do images with a high/low rating look like?\n",
        "- Point out relevant challenges, e.g., missing data"
      ]
    },
    {
      "cell_type": "markdown",
      "source": [
        "### Subsection 1 (Name)\n",
        "\n",
        "These subsections are just examples. Feel free to add or remove all subsections that you do not need."
      ],
      "metadata": {
        "id": "xSYDzJ8_TV5X"
      }
    },
    {
      "cell_type": "code",
      "source": [],
      "metadata": {
        "id": "eHR8P0OiTVkB"
      },
      "execution_count": null,
      "outputs": []
    },
    {
      "cell_type": "markdown",
      "source": [
        "### Subsection 2 (Name)"
      ],
      "metadata": {
        "id": "ADauY5cgTYV8"
      }
    },
    {
      "cell_type": "code",
      "metadata": {
        "id": "W-iJXCKjYN2P"
      },
      "source": [],
      "execution_count": null,
      "outputs": []
    },
    {
      "cell_type": "markdown",
      "metadata": {
        "id": "U6e1gDwOZlXx"
      },
      "source": [
        "## **Data Preparation** (Name)\n",
        "- Execute potential transformations of data\n",
        "- Create your dataset and dataloader\n",
        "- Create possible Data Augmentations\n",
        "- Train and validation split of your data by using split, k-fold cross validation or bootstrapping"
      ]
    },
    {
      "cell_type": "code",
      "metadata": {
        "id": "Hn9qyfQCZkZ5"
      },
      "source": [],
      "execution_count": null,
      "outputs": []
    },
    {
      "cell_type": "markdown",
      "metadata": {
        "id": "Q7rM1TalZkJ7"
      },
      "source": [
        "## **Modelling** (Name)\n",
        "- Create and train different models\n",
        "- Execute a structured hyper parameter tuning\n",
        "\n",
        "Due to models needing a GPU: Please activate the GPU under Laufzeit/Runtime menu."
      ]
    },
    {
      "cell_type": "code",
      "metadata": {
        "id": "cpNhkAZiZj4X"
      },
      "source": [],
      "execution_count": null,
      "outputs": []
    },
    {
      "cell_type": "markdown",
      "metadata": {
        "id": "kG-hggIRZjjd"
      },
      "source": [
        "## **Performance Evaluation** (Name)\n",
        "- Use different performance metrics, e.g., accuracy, MSE etc. to compare and evaluate your models\n",
        "- Analyze reasons for error, why are your models not performing?"
      ]
    },
    {
      "cell_type": "code",
      "metadata": {
        "id": "Z4qDzTIKcItl"
      },
      "source": [],
      "execution_count": null,
      "outputs": []
    },
    {
      "cell_type": "markdown",
      "metadata": {
        "id": "QZUTHWsacI9v"
      },
      "source": [
        "## **Interpretation** (Name)\n",
        "- Analyze your model, what are potential conclusions? E.g., which features are important? What could be improved to make a better model?\n",
        "\n"
      ]
    },
    {
      "cell_type": "code",
      "metadata": {
        "id": "VfLhescacb17"
      },
      "source": [],
      "execution_count": null,
      "outputs": []
    },
    {
      "cell_type": "markdown",
      "source": [
        "## **Generate Predictions** (Name)\n",
        "\n",
        "- Generate predictions using your best classification/regression model for the provided test data your supervisor is sending you. Send your final predictions as a .csv file with your project notebook to your supervisor and maximilian.witte@uni-hamburg.de"
      ],
      "metadata": {
        "id": "WWJT2_KLO7ht"
      }
    },
    {
      "cell_type": "code",
      "source": [],
      "metadata": {
        "id": "ATTL5RzfO7B6"
      },
      "execution_count": null,
      "outputs": []
    },
    {
      "cell_type": "markdown",
      "metadata": {
        "id": "kulv8cpKcq9_"
      },
      "source": [
        "## **References**\n",
        "- Cite all references you need according to chair guidelines"
      ]
    },
    {
      "cell_type": "markdown",
      "metadata": {
        "id": "_OLrMDxWc8oM"
      },
      "source": [
        "Liu, Xuan; Shi, Savannah Wei; Teixeira, Thales; Wedel, Michel (2018): Video Content Marketing: The Making of Clips, Journal of Marketing, Vol. 82, 86-101."
      ]
    }
  ]
}